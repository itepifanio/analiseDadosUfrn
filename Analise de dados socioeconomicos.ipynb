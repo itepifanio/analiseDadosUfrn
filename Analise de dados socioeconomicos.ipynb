{
 "cells": [
  {
   "cell_type": "code",
   "execution_count": null,
   "metadata": {},
   "outputs": [
    {
     "name": "stderr",
     "output_type": "stream",
     "text": [
      "/home/workspace/anaconda3/lib/python3.6/site-packages/matplotlib/font_manager.py:279: UserWarning: Matplotlib is building the font cache using fc-list. This may take a moment.\n",
      "  'Matplotlib is building the font cache using fc-list. '\n"
     ]
    }
   ],
   "source": [
    "#Bibliotecas Necessárias\n",
    "\n",
    "import pandas as pd\n",
    "import matplotlib.pyplot as plt\n",
    "import numpy as np\n",
    "from numpy import arange"
   ]
  },
  {
   "cell_type": "code",
   "execution_count": null,
   "metadata": {
    "collapsed": true
   },
   "outputs": [],
   "source": [
    "# Dados socioeconomicos\n",
    "url_socioeconomico2016_2 = 'http://dados.ufrn.br/dataset/8e0cb3ac-b6fa-48ef-a1ee-f2df0b893b72/resource/bb3f78da-55a7-4b23-abdc-9de974dc1e31/download/dados-socio-economicos-20162'\n",
    "url_socioeconomico2016_1 = 'http://dados.ufrn.br/dataset/8e0cb3ac-b6fa-48ef-a1ee-f2df0b893b72/resource/2f195ce7-f01a-4b41-acbd-b6245ccf0145/download/dados-socio-economicos-20161'\n",
    "\n",
    "#Cria dataframe com os dados socioeconomicos importados\n",
    "df_socioeconomico2016_1  = pd.read_csv(url_socioeconomico2016_1, sep=';')\n",
    "df_socioeconomico2016_2  = pd.read_csv(url_socioeconomico2016_2, sep=';')"
   ]
  },
  {
   "cell_type": "code",
   "execution_count": null,
   "metadata": {
    "collapsed": true
   },
   "outputs": [],
   "source": [
    "# Dados dos alunos matriculados\n",
    "url_ingressantes2016_1 = 'http://dados.ufrn.br/dataset/c8650d55-3c5a-4787-a126-d28a4ef902a6/resource/4778d3ce-8898-46a8-a623-ee6a480a2980/download/matriculas-de-2016.1.csv'\n",
    "url_ingressantes2016_2 = 'http://dados.ufrn.br/dataset/c8650d55-3c5a-4787-a126-d28a4ef902a6/resource/f6179838-b619-4d7d-af9c-18c438b80dd4/download/matriculas-de-2016.2.csv'\n",
    "\n",
    "# Dataframe dos alunos ingressantes matriculados\n",
    "df_ingressantes2016_1 = pd.read_csv(url_ingressantes2016_1, sep=';')\n",
    "df_ingressantes2016_2 = pd.read_csv(url_ingressantes2016_2, sep=';')"
   ]
  },
  {
   "cell_type": "code",
   "execution_count": null,
   "metadata": {
    "collapsed": true
   },
   "outputs": [],
   "source": [
    "#Inserindo matriculas e dados socieconomicos em uma lista\n",
    "matriculas      = []\n",
    "socioeconomicos = []\n",
    "\n",
    "for i in range(16,17):\n",
    "    for j in range (1,3):\n",
    "        matriculas.append(vars()['df_ingressantes20%d_%d' % (i, j)])\n",
    "        socioeconomicos.append(vars()['df_socioeconomico20%d_%d' % (i, j)])"
   ]
  },
  {
   "cell_type": "code",
   "execution_count": null,
   "metadata": {
    "collapsed": true
   },
   "outputs": [],
   "source": [
    "# concatenando todas as listas em um dataframe\n",
    "df_matriculas      = pd.concat(matriculas)\n",
    "df_socioeconomicos = pd.concat(socioeconomicos)\n",
    "\n",
    "# limpandos os index após o merge\n",
    "df_matriculas.reset_index(drop=True,inplace=True)\n",
    "df_socioeconomicos.reset_index(drop=True,inplace=True)\n"
   ]
  },
  {
   "cell_type": "code",
   "execution_count": null,
   "metadata": {},
   "outputs": [],
   "source": [
    "# verificando inicialmente os dados importados\n",
    "df_matriculas.tail()"
   ]
  },
  {
   "cell_type": "code",
   "execution_count": null,
   "metadata": {},
   "outputs": [],
   "source": [
    "# verificando inicialmente os dados importados\n",
    "df_socioeconomicos.tail()"
   ]
  },
  {
   "cell_type": "code",
   "execution_count": null,
   "metadata": {},
   "outputs": [],
   "source": [
    "# Discernindo situação socioeconomica dos discentes em classes sociais\n",
    "# http://www.abep.org/criterio-brasil\n",
    "\n",
    "bins = [0,768,1625,2705,4852,9254, df_socioeconomicos['renda'].max()]\n",
    "\n",
    "df_socioeconomicos[\"classe\"] = pd.cut(\n",
    "        df_socioeconomicos[\"renda\"], bins, \n",
    "        labels=[\"D\",\"C2\",\"C1\",\"B2\",\"B1\",\"A\"], \n",
    "        include_lowest=True,\n",
    "    )\n",
    "\n",
    "df_socioeconomicos.tail()"
   ]
  },
  {
   "cell_type": "code",
   "execution_count": null,
   "metadata": {
    "collapsed": true,
    "scrolled": true
   },
   "outputs": [],
   "source": [
    "# Organizando dados para exibir gráficos\n",
    "\n",
    "df_socioeconomicos['periodo'] = df_socioeconomicos.ano.astype(str).str.cat(df_socioeconomicos.periodo.astype(str), sep='-')\n",
    "df_socioeconomicos = df_socioeconomicos.filter(items=['periodo', 'classe', 'id_discente'])\n",
    "df_socioeconomicos = df_socioeconomicos.rename(index=str,columns={'id_discente':'count'})\n",
    "df_socioeconomicos = df_socioeconomicos.pivot_table(index='periodo', columns='classe', aggfunc='count')"
   ]
  },
  {
   "cell_type": "code",
   "execution_count": null,
   "metadata": {},
   "outputs": [],
   "source": [
    "df_socioeconomicos['count']\n"
   ]
  },
  {
   "cell_type": "code",
   "execution_count": null,
   "metadata": {},
   "outputs": [],
   "source": [
    "fig, ax = plt.subplots(figsize=(15,8))\n",
    "plt.title(\"Classe social dos alunos por período\")\n",
    "\n",
    "df_socioeconomicos['count'].plot(kind= 'line', ax=ax)"
   ]
  },
  {
   "cell_type": "code",
   "execution_count": null,
   "metadata": {
    "collapsed": true
   },
   "outputs": [],
   "source": []
  },
  {
   "cell_type": "code",
   "execution_count": null,
   "metadata": {
    "collapsed": true
   },
   "outputs": [],
   "source": []
  }
 ],
 "metadata": {
  "kernelspec": {
   "display_name": "Python 3",
   "language": "python",
   "name": "python3"
  },
  "language_info": {
   "codemirror_mode": {
    "name": "ipython",
    "version": 3
   },
   "file_extension": ".py",
   "mimetype": "text/x-python",
   "name": "python",
   "nbconvert_exporter": "python",
   "pygments_lexer": "ipython3",
   "version": "3.6.3"
  }
 },
 "nbformat": 4,
 "nbformat_minor": 2
}
